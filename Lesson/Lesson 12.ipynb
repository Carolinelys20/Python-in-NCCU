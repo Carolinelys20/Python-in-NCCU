{
 "cells": [
  {
   "cell_type": "code",
   "execution_count": 2,
   "metadata": {},
   "outputs": [],
   "source": [
    "import tkinter as tk"
   ]
  },
  {
   "cell_type": "code",
   "execution_count": 3,
   "metadata": {},
   "outputs": [
    {
     "name": "stdout",
     "output_type": "stream",
     "text": [
      "{'bd': ('bd', '-borderwidth'), 'borderwidth': ('borderwidth', 'borderWidth', 'BorderWidth', <pixel object: '0'>, 0), 'class': ('class', 'class', 'Class', 'Toplevel', 'Tk'), 'menu': ('menu', 'menu', 'Menu', '', ''), 'relief': ('relief', 'relief', 'Relief', <index object: 'flat'>, 'flat'), 'screen': ('screen', 'screen', 'Screen', '', ''), 'use': ('use', 'use', 'Use', '', ''), 'background': ('background', 'background', 'Background', <border object: 'systemWindowBody'>, 'green'), 'bg': ('bg', '-background'), 'colormap': ('colormap', 'colormap', 'Colormap', '', ''), 'container': ('container', 'container', 'Container', 0, 0), 'cursor': ('cursor', 'cursor', 'Cursor', '', ''), 'height': ('height', 'height', 'Height', <pixel object: '0'>, 600), 'highlightbackground': ('highlightbackground', 'highlightBackground', 'HighlightBackground', <color object: 'systemWindowBody'>, 'systemWindowBody'), 'highlightcolor': ('highlightcolor', 'highlightColor', 'HighlightColor', <color object: 'Black'>, 'Black'), 'highlightthickness': ('highlightthickness', 'highlightThickness', 'HighlightThickness', <pixel object: '0'>, 0), 'padx': ('padx', 'padX', 'Pad', <pixel object: '0'>, <pixel object: '0'>), 'pady': ('pady', 'padY', 'Pad', <pixel object: '0'>, <pixel object: '0'>), 'takefocus': ('takefocus', 'takeFocus', 'TakeFocus', '0', '0'), 'visual': ('visual', 'visual', 'Visual', '', ''), 'width': ('width', 'width', 'Width', <pixel object: '0'>, 800)}\n"
     ]
    }
   ],
   "source": [
    "#建空Window\n",
    "\n",
    "window = tk.Tk()\n",
    "window.title(\"test\") #視窗標題\n",
    "window.config(background=\"green\", width=\"800\", height=\"600\") #視窗視覺設定\n",
    "\n",
    "print(window.config())\n",
    "window.mainloop()"
   ]
  },
  {
   "cell_type": "code",
   "execution_count": 3,
   "metadata": {},
   "outputs": [],
   "source": [
    "#加widgets\n",
    "\n",
    "window = tk.Tk()\n",
    "lbl = tk.Label(window, text=\"Hello\", font=(\"Times\",100))\n",
    "lbl.pack()\n",
    "window.mainloop()"
   ]
  },
  {
   "cell_type": "code",
   "execution_count": 39,
   "metadata": {},
   "outputs": [],
   "source": [
    "#定義指令\n",
    "def window_quit():\n",
    "    #window.destroy()\n",
    "    r = float(weightVar.get())/(float(heightVar.get())/100)**2\n",
    "    result.config(text = r)\n",
    "\n",
    "window = tk.Tk()\n",
    "\n",
    "#結果呈現\n",
    "result = tk.Label(window, text=\"Result\")\n",
    "result.pack(side=\"top\")\n",
    "\n",
    "frame = tk.Frame(window)\n",
    "frame.pack()\n",
    "\n",
    "weightVar = tk.StringVar()\n",
    "weightVar.set(\"60\")\n",
    "lbl = tk.Label(frame, text=\"Weight\")\n",
    "lbl.pack(side= \"left\")\n",
    "entry = tk.Entry(frame, textvariable=weightVar)\n",
    "entry.pack(side= \"top\")\n",
    "\n",
    "\n",
    "\n",
    "frame2 = tk.Frame(window)\n",
    "frame2.pack()\n",
    "\n",
    "heightVar = tk.StringVar()\n",
    "\n",
    "lbl2 = tk.Label(frame2, text=\"Height\")\n",
    "lbl2.pack(side= \"left\")\n",
    "entry2 = tk.Entry(frame2, textvariable=heightVar)\n",
    "entry2.pack(side= \"top\")\n",
    "\n",
    "#按鍵（執行指令） \n",
    "btn = tk.Button(window, text=\"GO\", command=window_quit)\n",
    "btn.pack(side= \"bottom\")\n",
    "\n",
    "window.mainloop()"
   ]
  },
  {
   "cell_type": "code",
   "execution_count": null,
   "metadata": {
    "collapsed": true
   },
   "outputs": [],
   "source": []
  },
  {
   "cell_type": "code",
   "execution_count": null,
   "metadata": {},
   "outputs": [],
   "source": []
  }
 ],
 "metadata": {
  "kernelspec": {
   "display_name": "Python 3",
   "language": "python",
   "name": "python3"
  },
  "language_info": {
   "codemirror_mode": {
    "name": "ipython",
    "version": 3
   },
   "file_extension": ".py",
   "mimetype": "text/x-python",
   "name": "python",
   "nbconvert_exporter": "python",
   "pygments_lexer": "ipython3",
   "version": "3.7.4"
  }
 },
 "nbformat": 4,
 "nbformat_minor": 2
}
