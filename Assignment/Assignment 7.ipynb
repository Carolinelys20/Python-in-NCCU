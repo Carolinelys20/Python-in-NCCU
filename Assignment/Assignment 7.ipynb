{
 "cells": [
  {
   "cell_type": "code",
   "execution_count": 1,
   "metadata": {},
   "outputs": [],
   "source": [
    "%matplotlib inline\n",
    "\n",
    "import numpy as np\n",
    "import matplotlib.pyplot as plt\n",
    "import pandas as pd\n",
    "import random"
   ]
  },
  {
   "cell_type": "code",
   "execution_count": 2,
   "metadata": {},
   "outputs": [],
   "source": [
    "def Bomb():\n",
    "    a=random.randint(2,99)\n",
    "    start,end=1,100\n",
    "    while 1:\n",
    "        b=int(input(\"请输入%d到%d之间的整数：\"%(start,end)))\n",
    "        if b==a:\n",
    "            print(\"Bomb\")\n",
    "            break\n",
    "        elif b>a:\n",
    "            if b>=end:\n",
    "                print(\"請重新输入範圍內的數：\")\n",
    "            else:\n",
    "                end=b\n",
    "        else:\n",
    "            if b<=start:\n",
    "                print(\"請重新输入範圍內的數：\")\n",
    "            else:\n",
    "                start=b"
   ]
  },
  {
   "cell_type": "code",
   "execution_count": 3,
   "metadata": {},
   "outputs": [
    {
     "name": "stdout",
     "output_type": "stream",
     "text": [
      "请输入1到100之间的整数：3\n",
      "请输入3到100之间的整数：87\n",
      "请输入3到87之间的整数：50\n",
      "请输入50到87之间的整数：66\n",
      "请输入50到66之间的整数：67\n",
      "請重新输入範圍內的數：\n",
      "请输入50到66之间的整数：56\n",
      "请输入56到66之间的整数：60\n",
      "请输入60到66之间的整数：63\n",
      "Bomb\n"
     ]
    }
   ],
   "source": [
    "Bomb()"
   ]
  },
  {
   "cell_type": "code",
   "execution_count": null,
   "metadata": {},
   "outputs": [],
   "source": []
  },
  {
   "cell_type": "code",
   "execution_count": null,
   "metadata": {},
   "outputs": [],
   "source": []
  }
 ],
 "metadata": {
  "kernelspec": {
   "display_name": "Python 3",
   "language": "python",
   "name": "python3"
  },
  "language_info": {
   "codemirror_mode": {
    "name": "ipython",
    "version": 3
   },
   "file_extension": ".py",
   "mimetype": "text/x-python",
   "name": "python",
   "nbconvert_exporter": "python",
   "pygments_lexer": "ipython3",
   "version": "3.7.3"
  }
 },
 "nbformat": 4,
 "nbformat_minor": 2
}
