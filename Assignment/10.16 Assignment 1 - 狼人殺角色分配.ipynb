{
 "cells": [
  {
   "cell_type": "code",
   "execution_count": 36,
   "metadata": {},
   "outputs": [],
   "source": [
    "%matplotlib inline\n",
    "\n",
    "import numpy as np\n",
    "import matplotlib.pyplot as plt\n",
    "import pandas as pd"
   ]
  },
  {
   "cell_type": "code",
   "execution_count": 37,
   "metadata": {},
   "outputs": [],
   "source": [
    "class Kill:\n",
    "    \n",
    "    def __init__(self, r, g):\n",
    "        self.role = r\n",
    "        self.gamer = g"
   ]
  },
  {
   "cell_type": "code",
   "execution_count": 38,
   "metadata": {},
   "outputs": [],
   "source": [
    "class Kill:\n",
    "    \n",
    "    ROLES = [\"狼王\", \"狼人\", \"預言家\", \"女巫\", \"獵人\", \"騎士\", \"平民\"]\n",
    "    GAMERS = ['1', '2', '3', '4', '5', '6', '7', '8', '9', '10', '11', '12']\n",
    "    \n",
    "    def __init__(self, r, g):\n",
    "        self.role = r\n",
    "        self.gamer = g\n",
    "    \n",
    "    def __repr__(self):\n",
    "        thekill = self.ROLES[self.role] + self.GAMERS[self.gamer]\n",
    "        return thekill"
   ]
  },
  {
   "cell_type": "code",
   "execution_count": 56,
   "metadata": {},
   "outputs": [],
   "source": [
    "kill01 = Kill(0,4)\n",
    "kill02 = Kill(1,7)\n",
    "kill03 = Kill(2,5)\n",
    "kill04 = Kill(3,11)\n",
    "kill05 = Kill(4,10)\n",
    "kill06 = Kill(5,3)\n",
    "kill07 = Kill(6,9)\n",
    "kill08 = Kill(1,1)\n",
    "kill09 = Kill(1,2)\n",
    "kill10 = Kill(6,8)\n",
    "kill11 = Kill(6,6)\n",
    "kill12 = Kill(6,0)"
   ]
  },
  {
   "cell_type": "code",
   "execution_count": 59,
   "metadata": {},
   "outputs": [
    {
     "data": {
      "text/plain": [
       "平民9"
      ]
     },
     "execution_count": 59,
     "metadata": {},
     "output_type": "execute_result"
    }
   ],
   "source": [
    "kill10"
   ]
  },
  {
   "cell_type": "code",
   "execution_count": null,
   "metadata": {},
   "outputs": [],
   "source": []
  },
  {
   "cell_type": "code",
   "execution_count": null,
   "metadata": {},
   "outputs": [],
   "source": []
  },
  {
   "cell_type": "code",
   "execution_count": null,
   "metadata": {},
   "outputs": [],
   "source": []
  },
  {
   "cell_type": "code",
   "execution_count": null,
   "metadata": {},
   "outputs": [],
   "source": []
  }
 ],
 "metadata": {
  "kernelspec": {
   "display_name": "Python 3",
   "language": "python",
   "name": "python3"
  },
  "language_info": {
   "codemirror_mode": {
    "name": "ipython",
    "version": 3
   },
   "file_extension": ".py",
   "mimetype": "text/x-python",
   "name": "python",
   "nbconvert_exporter": "python",
   "pygments_lexer": "ipython3",
   "version": "3.7.3"
  }
 },
 "nbformat": 4,
 "nbformat_minor": 2
}
