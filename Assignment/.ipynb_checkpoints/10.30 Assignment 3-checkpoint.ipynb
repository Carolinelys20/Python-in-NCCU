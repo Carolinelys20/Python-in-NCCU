{
 "cells": [
  {
   "cell_type": "code",
   "execution_count": 4,
   "metadata": {},
   "outputs": [],
   "source": [
    "%matplotlib inline\n",
    "\n",
    "import numpy as np\n",
    "import matplotlib.pyplot as plt\n",
    "import pandas as pd\n",
    "import colorsys\n",
    "import PIL.Image as Image"
   ]
  },
  {
   "cell_type": "code",
   "execution_count": 44,
   "metadata": {},
   "outputs": [],
   "source": [
    "def get_dominant_color(image):\n",
    "    image = image.convert('RGBA') #颜色模式转换，以便输出rgb颜色值\n",
    "    image.thumbnail((200, 200)) #生成缩略图，减少计算量，减小cpu压力\n",
    "    max_score = 1\n",
    "    dominant_color = 0\n",
    "    \n",
    "    for count, (r, g, b, a) in image.getcolors(image.size[0] * image.size[1]):\n",
    "        # 跳过纯黑色\n",
    "        if a == 0:\n",
    "            continue\n",
    "        saturation = colorsys.rgb_to_hsv(r / 255.0, g / 255.0, b / 255.0)[1] #顏色編碼轉變\n",
    "        \n",
    "        y = min(abs(r * 2104 + g * 4130 + b * 802 + 4096 + 131072) >> 13, 235)\n",
    "        y = (y - 16.0) / (235 - 16)\n",
    "        \n",
    "        # 忽略高亮色\n",
    "        if y > 0.9:\n",
    "            continue\n",
    "        \n",
    "        score = (saturation + 0.1) * count\n",
    "        \n",
    "        if score > max_score:\n",
    "            max_score = score\n",
    "            dominant_color = (r, g, b)\n",
    "    \n",
    "    return dominant_color"
   ]
  },
  {
   "cell_type": "code",
   "execution_count": 45,
   "metadata": {},
   "outputs": [
    {
     "name": "stdout",
     "output_type": "stream",
     "text": [
      "(46, 112, 208)\n"
     ]
    }
   ],
   "source": [
    "print(get_dominant_color(Image.open(\"test.jpg\")))"
   ]
  },
  {
   "cell_type": "code",
   "execution_count": null,
   "metadata": {},
   "outputs": [],
   "source": []
  },
  {
   "cell_type": "code",
   "execution_count": null,
   "metadata": {},
   "outputs": [],
   "source": []
  }
 ],
 "metadata": {
  "kernelspec": {
   "display_name": "Python 3",
   "language": "python",
   "name": "python3"
  },
  "language_info": {
   "codemirror_mode": {
    "name": "ipython",
    "version": 3
   },
   "file_extension": ".py",
   "mimetype": "text/x-python",
   "name": "python",
   "nbconvert_exporter": "python",
   "pygments_lexer": "ipython3",
   "version": "3.7.3"
  }
 },
 "nbformat": 4,
 "nbformat_minor": 2
}
