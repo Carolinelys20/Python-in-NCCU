{
 "cells": [
  {
   "cell_type": "code",
   "execution_count": 9,
   "metadata": {},
   "outputs": [],
   "source": [
    "from ipywidgets import Layout, Button, Box, HBox,VBox"
   ]
  },
  {
   "cell_type": "code",
   "execution_count": 59,
   "metadata": {},
   "outputs": [
    {
     "data": {
      "application/vnd.jupyter.widget-view+json": {
       "model_id": "4618162b60684f4c80e75cc967d2ee71",
       "version_major": 2,
       "version_minor": 0
      },
      "text/plain": [
       "VBox(children=(Box(children=(Button(button_style='warning', description='凍蒜歌單Box', layout=Layout(flex='auto', …"
      ]
     },
     "metadata": {},
     "output_type": "display_data"
    }
   ],
   "source": [
    "items_name = [\n",
    "    Button(description='凍蒜歌單Box', layout=Layout(flex='auto', width='auto'), button_style='warning'),\n",
    "]\n",
    "\n",
    "items_auto = [\n",
    "    Button(description='韓國', layout=Layout(flex='2 1 auto', width='auto'), button_style='success'),\n",
    "    Button(description='魚', layout=Layout(flex='1 1 auto', width='auto'), button_style='success'),\n",
    "    Button(description='你為什麼說謊', layout=Layout(flex='6 1 auto', width='auto'), button_style='danger'),\n",
    "]\n",
    "\n",
    "items_Hi = [\n",
    "    Button(description='為什麼', layout=Layout(flex='3 1 0%', width='auto'), button_style='info'),\n",
    "    Button(description='背叛', layout=Layout(flex='2 1 0%', width='auto'), button_style='danger'),\n",
    "    Button(description='高雄', layout=Layout(flex='2 1 0%', width='auto'), button_style='primary'),\n",
    "]\n",
    "\n",
    "box_layout = Layout(display='flex',\n",
    "                   flex_flow='row',\n",
    "                   align_items='stretch',\n",
    "                   width='50%')\n",
    "    \n",
    "box_name = Box(children=items_name, layout=box_layout)\n",
    "box_auto = Box(children=items_auto, layout=box_layout)\n",
    "box_Hi = Box(children=items_Hi, layout=box_layout)\n",
    "VBox([box_name, box_auto, box_Hi])"
   ]
  },
  {
   "cell_type": "code",
   "execution_count": null,
   "metadata": {},
   "outputs": [],
   "source": []
  },
  {
   "cell_type": "code",
   "execution_count": null,
   "metadata": {},
   "outputs": [],
   "source": []
  }
 ],
 "metadata": {
  "kernelspec": {
   "display_name": "Python 3",
   "language": "python",
   "name": "python3"
  },
  "language_info": {
   "codemirror_mode": {
    "name": "ipython",
    "version": 3
   },
   "file_extension": ".py",
   "mimetype": "text/x-python",
   "name": "python",
   "nbconvert_exporter": "python",
   "pygments_lexer": "ipython3",
   "version": "3.7.3"
  }
 },
 "nbformat": 4,
 "nbformat_minor": 2
}
