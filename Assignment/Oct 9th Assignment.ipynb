{
 "cells": [
  {
   "cell_type": "code",
   "execution_count": null,
   "metadata": {},
   "outputs": [],
   "source": [
    "%matplotlib inline\n",
    "\n",
    "import numpy as np\n",
    "import matplotlib.pyplot as plt\n",
    "import pandas as pd"
   ]
  },
  {
   "cell_type": "markdown",
   "metadata": {},
   "source": [
    "## 作業一     濾出甲乙班學號"
   ]
  },
  {
   "cell_type": "code",
   "execution_count": null,
   "metadata": {},
   "outputs": [],
   "source": [
    "BAstudent = range(105305001,105305100)"
   ]
  },
  {
   "cell_type": "code",
   "execution_count": 67,
   "metadata": {},
   "outputs": [],
   "source": [
    "len(BAstudent)"
   ]
  },
  {
   "cell_type": "code",
   "execution_count": 97,
   "metadata": {},
   "outputs": [],
   "source": [
    "def A(n):\n",
    "    return n%2 != 0\n",
    "\n",
    "def B(k):\n",
    "    return k%2 == 0"
   ]
  },
  {
   "cell_type": "code",
   "execution_count": 98,
   "metadata": {},
   "outputs": [
    {
     "data": {
      "text/plain": [
       "[105305001,\n",
       " 105305003,\n",
       " 105305005,\n",
       " 105305007,\n",
       " 105305009,\n",
       " 105305011,\n",
       " 105305013,\n",
       " 105305015,\n",
       " 105305017,\n",
       " 105305019,\n",
       " 105305021,\n",
       " 105305023,\n",
       " 105305025,\n",
       " 105305027,\n",
       " 105305029,\n",
       " 105305031,\n",
       " 105305033,\n",
       " 105305035,\n",
       " 105305037,\n",
       " 105305039,\n",
       " 105305041,\n",
       " 105305043,\n",
       " 105305045,\n",
       " 105305047,\n",
       " 105305049,\n",
       " 105305051,\n",
       " 105305053,\n",
       " 105305055,\n",
       " 105305057,\n",
       " 105305059,\n",
       " 105305061,\n",
       " 105305063,\n",
       " 105305065,\n",
       " 105305067,\n",
       " 105305069,\n",
       " 105305071,\n",
       " 105305073,\n",
       " 105305075,\n",
       " 105305077,\n",
       " 105305079,\n",
       " 105305081,\n",
       " 105305083,\n",
       " 105305085,\n",
       " 105305087,\n",
       " 105305089,\n",
       " 105305091,\n",
       " 105305093,\n",
       " 105305095,\n",
       " 105305097,\n",
       " 105305099]"
      ]
     },
     "execution_count": 98,
     "metadata": {},
     "output_type": "execute_result"
    }
   ],
   "source": [
    "list(filter(A, BAstudent))"
   ]
  },
  {
   "cell_type": "code",
   "execution_count": 96,
   "metadata": {},
   "outputs": [
    {
     "data": {
      "text/plain": [
       "[105305002,\n",
       " 105305004,\n",
       " 105305006,\n",
       " 105305008,\n",
       " 105305010,\n",
       " 105305012,\n",
       " 105305014,\n",
       " 105305016,\n",
       " 105305018,\n",
       " 105305020,\n",
       " 105305022,\n",
       " 105305024,\n",
       " 105305026,\n",
       " 105305028,\n",
       " 105305030,\n",
       " 105305032,\n",
       " 105305034,\n",
       " 105305036,\n",
       " 105305038,\n",
       " 105305040,\n",
       " 105305042,\n",
       " 105305044,\n",
       " 105305046,\n",
       " 105305048,\n",
       " 105305050,\n",
       " 105305052,\n",
       " 105305054,\n",
       " 105305056,\n",
       " 105305058,\n",
       " 105305060,\n",
       " 105305062,\n",
       " 105305064,\n",
       " 105305066,\n",
       " 105305068,\n",
       " 105305070,\n",
       " 105305072,\n",
       " 105305074,\n",
       " 105305076,\n",
       " 105305078,\n",
       " 105305080,\n",
       " 105305082,\n",
       " 105305084,\n",
       " 105305086,\n",
       " 105305088,\n",
       " 105305090,\n",
       " 105305092,\n",
       " 105305094,\n",
       " 105305096,\n",
       " 105305098]"
      ]
     },
     "execution_count": 96,
     "metadata": {},
     "output_type": "execute_result"
    }
   ],
   "source": [
    "list(filter(B, BAstudent))"
   ]
  },
  {
   "cell_type": "markdown",
   "metadata": {},
   "source": [
    "## 作業二   星期對話機 "
   ]
  },
  {
   "cell_type": "code",
   "execution_count": 62,
   "metadata": {},
   "outputs": [
    {
     "name": "stdout",
     "output_type": "stream",
     "text": [
      "請輸入今天星期幾：星期八\n",
      "星期八，你好外星人\n"
     ]
    }
   ],
   "source": [
    "intro = input(\"請輸入今天星期幾：\")\n",
    "\n",
    "if intro == \"星期一\":\n",
    "    print(f\"{intro}，又是可憐上班日\")\n",
    "elif intro == \"星期二\":\n",
    "    print(f\"{intro}，難得早上沒課\")\n",
    "elif intro == \"星期三\":\n",
    "    print(f\"{intro}，這星期過了一半\")\n",
    "elif intro == \"星期四\":\n",
    "    print(f\"{intro}，要上課到很晚的日子\")\n",
    "elif intro == \"星期五\":\n",
    "    print(f\"{intro}，Happy Friday Night\")\n",
    "elif intro == \"星期六\":\n",
    "    print(f\"{intro}，66666\")\n",
    "elif intro == \"星期日\":\n",
    "    print(f\"{intro}，從來沒搞懂是一週的開始還是結束\")\n",
    "else:\n",
    "    print(f\"{intro}，你好外星人\") "
   ]
  },
  {
   "cell_type": "markdown",
   "metadata": {},
   "source": [
    "## 作業三 音樂箱"
   ]
  },
  {
   "cell_type": "code",
   "execution_count": 213,
   "metadata": {},
   "outputs": [],
   "source": [
    "from IPython.display import display, YouTubeVideo\n",
    "import ipywidgets as widgets\n",
    "from ipywidgets import Layout, HBox,VBox"
   ]
  },
  {
   "cell_type": "code",
   "execution_count": 214,
   "metadata": {},
   "outputs": [
    {
     "data": {
      "application/vnd.jupyter.widget-view+json": {
       "model_id": "20ee469757494347b7f397546e536e7a",
       "version_major": 2,
       "version_minor": 0
      },
      "text/plain": [
       "HBox(children=(VBox(children=(Output(layout=Layout(border='1px solid black', width='auto'), outputs=({'output_…"
      ]
     },
     "metadata": {},
     "output_type": "display_data"
    }
   ],
   "source": [
    "hate = widgets.Output(layout={'border':'1px solid black',\n",
    "                            'width':'auto'})\n",
    "hate.append_stdout('厭世時...')\n",
    "hate.append_display_data(YouTubeVideo('9KCDSxInPSU'))\n",
    "\n",
    "happy = widgets.Output(layout={'border':'1px solid black',\n",
    "                            'width':'auto'})\n",
    "happy.append_stdout('開心時...')\n",
    "happy.append_display_data(YouTubeVideo('ARXhBQ8hdlE'))\n",
    "\n",
    "sad = widgets.Output(layout={'border':'1px solid black',\n",
    "                            'width':'auto'})\n",
    "sad.append_stdout('傷心時...')\n",
    "sad.append_display_data(YouTubeVideo('BRcudpJzy1I'))\n",
    "\n",
    "annoy = widgets.Output(layout={'border':'1px solid black',\n",
    "                            'width':'auto'})\n",
    "annoy.append_stdout('煩躁時...')\n",
    "annoy.append_display_data(YouTubeVideo('TRDV0xw3j4Y'))\n",
    "\n",
    "left_box = VBox([hate, happy])\n",
    "right_box = VBox([sad, annoy])\n",
    "HBox([left_box, right_box])"
   ]
  },
  {
   "cell_type": "markdown",
   "metadata": {},
   "source": [
    "## 作業四 厭世聖誕樹"
   ]
  },
  {
   "cell_type": "code",
   "execution_count": 266,
   "metadata": {},
   "outputs": [
    {
     "name": "stdout",
     "output_type": "stream",
     "text": [
      "              *               \n",
      "             ***              \n",
      "            *****             \n",
      "           *******            \n",
      "          *********           \n",
      "         ***********          \n",
      "        *************         \n",
      "       ***************        \n",
      "      *****************       \n",
      "     *******************      \n",
      "  ⚇**╭∩╮（︶︿︶）╭∩╮**⚇\n",
      "     *******************      \n",
      "      *****************       \n",
      "       ***************        \n",
      "        *************         \n",
      "         ***********          \n",
      "          *********           \n",
      "           *******            \n",
      "            *****             \n",
      "             ***              \n",
      "              *               \n"
     ]
    }
   ],
   "source": [
    "for n in range(10):\n",
    "    s = \"*\"*(2*n +1)\n",
    "    print(f\"{s:^30s}\")\n",
    "    \n",
    "egg = \"╭∩╮（︶︿︶）╭∩╮\"\n",
    "spam = \" \"*2 + f\"⚇{egg:*^15s}⚇\"\n",
    "print(spam)\n",
    "\n",
    "for n in range(10):\n",
    "    s = \"*\"*(19 - 2*n)\n",
    "    print(f\"{s:^30s}\")"
   ]
  },
  {
   "cell_type": "code",
   "execution_count": null,
   "metadata": {},
   "outputs": [],
   "source": []
  }
 ],
 "metadata": {
  "kernelspec": {
   "display_name": "Python 3",
   "language": "python",
   "name": "python3"
  },
  "language_info": {
   "codemirror_mode": {
    "name": "ipython",
    "version": 3
   },
   "file_extension": ".py",
   "mimetype": "text/x-python",
   "name": "python",
   "nbconvert_exporter": "python",
   "pygments_lexer": "ipython3",
   "version": "3.7.3"
  }
 },
 "nbformat": 4,
 "nbformat_minor": 2
}
