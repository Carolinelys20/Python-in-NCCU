{
 "cells": [
  {
   "cell_type": "code",
   "execution_count": 23,
   "metadata": {},
   "outputs": [],
   "source": [
    "%matplotlib inline\n",
    "\n",
    "import numpy as np\n",
    "import matplotlib.pyplot as plt\n",
    "import pandas as pd\n",
    "import PIL.Image as Image"
   ]
  },
  {
   "cell_type": "markdown",
   "metadata": {},
   "source": [
    "### PIL.Image Package應用"
   ]
  },
  {
   "cell_type": "code",
   "execution_count": 32,
   "metadata": {},
   "outputs": [],
   "source": [
    "#打開照片檔案\n",
    "im = Image.open(\"test.jpg\")\n",
    "im.show()"
   ]
  },
  {
   "cell_type": "code",
   "execution_count": 4,
   "metadata": {},
   "outputs": [
    {
     "name": "stdout",
     "output_type": "stream",
     "text": [
      "JPEG (1280, 1024) RGB\n"
     ]
    }
   ],
   "source": [
    "#查詢照片屬性\n",
    "print (im.format, im.size, im.mode)"
   ]
  },
  {
   "cell_type": "code",
   "execution_count": 35,
   "metadata": {},
   "outputs": [],
   "source": [
    "#以100quality轉存成png檔\n",
    "im.save(\"test_quality100.png\", quality =100)"
   ]
  },
  {
   "cell_type": "code",
   "execution_count": 10,
   "metadata": {},
   "outputs": [
    {
     "name": "stdout",
     "output_type": "stream",
     "text": [
      "(1280, 1024)\n"
     ]
    }
   ],
   "source": [
    "im = Image.open(\"test.jpg\")\n",
    "print(im.size)"
   ]
  },
  {
   "cell_type": "code",
   "execution_count": 34,
   "metadata": {},
   "outputs": [
    {
     "name": "stdout",
     "output_type": "stream",
     "text": [
      "<PIL.Image.Image image mode=RGB size=400x320 at 0x11EAFBCC0>\n"
     ]
    }
   ],
   "source": [
    "#給定寬度，等比例算出高度\n",
    "width = 400 \n",
    "ratio = float(width)/im.size[0]\n",
    "height = int(im.size[1]*ratio)\n",
    "#用設定的寬高以線性縮放\n",
    "test_resized = im.resize((width,height), Image.BILINEAR)\n",
    "test_resized.show()"
   ]
  },
  {
   "cell_type": "code",
   "execution_count": 12,
   "metadata": {},
   "outputs": [],
   "source": [
    "#存下新尺寸的照片\n",
    "test_resized.save(\"test_resized.jpg\")"
   ]
  },
  {
   "cell_type": "code",
   "execution_count": 51,
   "metadata": {},
   "outputs": [],
   "source": [
    "#把剛剛縮小的圖片放到新圖片上\n",
    "downim = Image.open(\"up.jpg\")\n",
    "upim = Image.open(\"test_resized.jpg\")\n",
    "pasted =downim.paste(upim, (400,100))"
   ]
  },
  {
   "cell_type": "code",
   "execution_count": null,
   "metadata": {},
   "outputs": [],
   "source": [
    "#儲存paste的圖片\n",
    "downim.save(\"pasted.jpg\")"
   ]
  }
 ],
 "metadata": {
  "kernelspec": {
   "display_name": "Python 3",
   "language": "python",
   "name": "python3"
  },
  "language_info": {
   "codemirror_mode": {
    "name": "ipython",
    "version": 3
   },
   "file_extension": ".py",
   "mimetype": "text/x-python",
   "name": "python",
   "nbconvert_exporter": "python",
   "pygments_lexer": "ipython3",
   "version": "3.7.3"
  }
 },
 "nbformat": 4,
 "nbformat_minor": 2
}
