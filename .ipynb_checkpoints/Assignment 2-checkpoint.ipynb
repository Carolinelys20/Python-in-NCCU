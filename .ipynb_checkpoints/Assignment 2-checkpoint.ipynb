{
 "cells": [
  {
   "cell_type": "code",
   "execution_count": 1,
   "metadata": {},
   "outputs": [],
   "source": [
    "%matplotlib inline\n",
    "\n",
    "import numpy as np\n",
    "import matplotlib.pyplot as plt\n",
    "import pandas as pd"
   ]
  },
  {
   "cell_type": "code",
   "execution_count": null,
   "metadata": {},
   "outputs": [],
   "source": [
    "x = input('請輸入你的生日:')\n",
    "x = float(x)\n",
    "if 120<=x<=218:\n",
    "    print('水瓶座')\n",
    "elif 219<=x<=320:\n",
    "    print('雙魚座')\n",
    "elif 321<=x<=419:\n",
    "    print('牡羊座')\n",
    "elif 420<=x<=520:\n",
    "    print('金牛座')\n",
    "elif 521<=x<=621:\n",
    "    print('雙子座')\n",
    "elif 622<=x<=722:\n",
    "    print('巨蟹座')\n",
    "elif 723<=x<=822:\n",
    "    print('獅子座')\n",
    "elif 823<=x<=922:\n",
    "    print('處女座')\n",
    "elif 923<=x<=1023:\n",
    "    print('天秤座')\n",
    "elif 1024<=x<=1122:\n",
    "    print('天蠍座')\n",
    "elif 1123<=x<=1221:\n",
    "    print('射手座')\n",
    "elif 1222<=x<=1231 or 101<=x<=119:\n",
    "    print('摩羯座')\n",
    "else:\n",
    "    print('你是外星人膩')"
   ]
  },
  {
   "cell_type": "code",
   "execution_count": null,
   "metadata": {},
   "outputs": [],
   "source": [
    "x = input('請輸入你的生日:')\n",
    "x = float(x)\n",
    "if 120<=x<=218:\n",
    "    print('水瓶座')\n",
    "elif 219<=x<=320:\n",
    "    print('雙魚座')\n",
    "elif 321<=x<=419:\n",
    "    print('牡羊座')\n",
    "elif 420<=x<=520:\n",
    "    print('金牛座')\n",
    "elif 521<=x<=621:\n",
    "    print('雙子座')\n",
    "elif 622<=x<=722:\n",
    "    print('巨蟹座')\n",
    "elif 723<=x<=822:\n",
    "    print('獅子座')\n",
    "elif 823<=x<=922:\n",
    "    print('處女座')\n",
    "elif 923<=x<=1023:\n",
    "    print('天秤座')\n",
    "elif 1024<=x<=1122:\n",
    "    print('天蠍座')\n",
    "elif 1123<=x<=1221:\n",
    "    print('射手座')\n",
    "elif (1222<=x<=1231) or (101<=x<=119):\n",
    "    print('摩羯座')\n",
    "else:\n",
    "    print('你是外星人膩')"
   ]
  },
  {
   "cell_type": "code",
   "execution_count": null,
   "metadata": {},
   "outputs": [],
   "source": []
  }
 ],
 "metadata": {
  "kernelspec": {
   "display_name": "Python 3",
   "language": "python",
   "name": "python3"
  },
  "language_info": {
   "codemirror_mode": {
    "name": "ipython",
    "version": 3
   },
   "file_extension": ".py",
   "mimetype": "text/x-python",
   "name": "python",
   "nbconvert_exporter": "python",
   "pygments_lexer": "ipython3",
   "version": "3.7.3"
  }
 },
 "nbformat": 4,
 "nbformat_minor": 2
}
