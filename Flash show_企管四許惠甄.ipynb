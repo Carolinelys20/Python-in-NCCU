{
 "cells": [
  {
   "cell_type": "code",
   "execution_count": 1,
   "metadata": {},
   "outputs": [],
   "source": [
    "from ipywidgets import Layout, Button, Box, HBox,VBox"
   ]
  },
  {
   "cell_type": "code",
   "execution_count": 2,
   "metadata": {},
   "outputs": [
    {
     "data": {
      "application/vnd.jupyter.widget-view+json": {
       "model_id": "36d95288a0de423db1fa31618ad243f2",
       "version_major": 2,
       "version_minor": 0
      },
      "text/plain": [
       "Button(button_style='warning', description='Hello', layout=Layout(height='60px', width='100px'), style=ButtonS…"
      ]
     },
     "metadata": {},
     "output_type": "display_data"
    }
   ],
   "source": [
    "items_hello = Button(description='Hello',\n",
    "                     layout=Layout(height='60px', width='100px'),\n",
    "                     button_style='warning')\n",
    "\n",
    "items_hello"
   ]
  },
  {
   "cell_type": "code",
   "execution_count": 3,
   "metadata": {},
   "outputs": [
    {
     "data": {
      "application/vnd.jupyter.widget-view+json": {
       "model_id": "f079ac625f2c4e719043b0596a7eed1a",
       "version_major": 2,
       "version_minor": 0
      },
      "text/plain": [
       "Button(button_style='warning', description='格式如上', layout=Layout(height='60px', width='100px'), style=ButtonSt…"
      ]
     },
     "metadata": {},
     "output_type": "display_data"
    }
   ],
   "source": [
    "Same_button = Button(description='格式如上',\n",
    "                     layout=items_hello.layout,\n",
    "                     button_style=items_hello.button_style)\n",
    "\n",
    "Same_button"
   ]
  },
  {
   "cell_type": "code",
   "execution_count": 4,
   "metadata": {},
   "outputs": [
    {
     "data": {
      "application/vnd.jupyter.widget-view+json": {
       "model_id": "f9aabba4d4134facb56c09aa3518e02c",
       "version_major": 2,
       "version_minor": 0
      },
      "text/plain": [
       "VBox(children=(Button(button_style='info', description='上', style=ButtonStyle()), Button(button_style='info', …"
      ]
     },
     "metadata": {},
     "output_type": "display_data"
    }
   ],
   "source": [
    "words = ['上', '下']\n",
    "items = [Button(description=d,button_style='info') for d in words]\n",
    "VBox([items[0], items[1]])"
   ]
  },
  {
   "cell_type": "code",
   "execution_count": 5,
   "metadata": {},
   "outputs": [
    {
     "data": {
      "application/vnd.jupyter.widget-view+json": {
       "model_id": "705cf3e2cbff4006846d170a7a6f1443",
       "version_major": 2,
       "version_minor": 0
      },
      "text/plain": [
       "HBox(children=(Button(button_style='success', description='左', style=ButtonStyle()), Button(button_style='succ…"
      ]
     },
     "metadata": {},
     "output_type": "display_data"
    }
   ],
   "source": [
    "words = ['左', '右']\n",
    "items = [Button(description=d,button_style='success') for d in words]\n",
    "HBox([items[0], items[1]])"
   ]
  },
  {
   "cell_type": "code",
   "execution_count": 1,
   "metadata": {},
   "outputs": [
    {
     "ename": "NameError",
     "evalue": "name 'Button' is not defined",
     "output_type": "error",
     "traceback": [
      "\u001b[0;31m---------------------------------------------------------------------------\u001b[0m",
      "\u001b[0;31mNameError\u001b[0m                                 Traceback (most recent call last)",
      "\u001b[0;32m<ipython-input-1-3aab22293184>\u001b[0m in \u001b[0;36m<module>\u001b[0;34m\u001b[0m\n\u001b[1;32m      1\u001b[0m \u001b[0mwords\u001b[0m \u001b[0;34m=\u001b[0m \u001b[0;34m[\u001b[0m\u001b[0;34m'左上'\u001b[0m\u001b[0;34m,\u001b[0m \u001b[0;34m'左下'\u001b[0m\u001b[0;34m,\u001b[0m \u001b[0;34m'右上'\u001b[0m\u001b[0;34m,\u001b[0m \u001b[0;34m'右下'\u001b[0m\u001b[0;34m]\u001b[0m\u001b[0;34m\u001b[0m\u001b[0;34m\u001b[0m\u001b[0m\n\u001b[0;32m----> 2\u001b[0;31m \u001b[0mitems\u001b[0m \u001b[0;34m=\u001b[0m \u001b[0;34m[\u001b[0m\u001b[0mButton\u001b[0m\u001b[0;34m(\u001b[0m\u001b[0mdescription\u001b[0m\u001b[0;34m=\u001b[0m\u001b[0md\u001b[0m\u001b[0;34m,\u001b[0m \u001b[0mbutton_style\u001b[0m\u001b[0;34m=\u001b[0m\u001b[0;34m'danger'\u001b[0m\u001b[0;34m)\u001b[0m \u001b[0;32mfor\u001b[0m \u001b[0md\u001b[0m \u001b[0;32min\u001b[0m \u001b[0mwords\u001b[0m\u001b[0;34m]\u001b[0m\u001b[0;34m\u001b[0m\u001b[0;34m\u001b[0m\u001b[0m\n\u001b[0m\u001b[1;32m      3\u001b[0m \u001b[0mleft_box\u001b[0m \u001b[0;34m=\u001b[0m \u001b[0mVBox\u001b[0m\u001b[0;34m(\u001b[0m\u001b[0;34m[\u001b[0m\u001b[0mitems\u001b[0m\u001b[0;34m[\u001b[0m\u001b[0;36m0\u001b[0m\u001b[0;34m]\u001b[0m\u001b[0;34m,\u001b[0m \u001b[0mitems\u001b[0m\u001b[0;34m[\u001b[0m\u001b[0;36m1\u001b[0m\u001b[0;34m]\u001b[0m\u001b[0;34m]\u001b[0m\u001b[0;34m)\u001b[0m\u001b[0;34m\u001b[0m\u001b[0;34m\u001b[0m\u001b[0m\n\u001b[1;32m      4\u001b[0m \u001b[0mright_box\u001b[0m \u001b[0;34m=\u001b[0m \u001b[0mVBox\u001b[0m\u001b[0;34m(\u001b[0m\u001b[0;34m[\u001b[0m\u001b[0mitems\u001b[0m\u001b[0;34m[\u001b[0m\u001b[0;36m2\u001b[0m\u001b[0;34m]\u001b[0m\u001b[0;34m,\u001b[0m \u001b[0mitems\u001b[0m\u001b[0;34m[\u001b[0m\u001b[0;36m3\u001b[0m\u001b[0;34m]\u001b[0m\u001b[0;34m]\u001b[0m\u001b[0;34m)\u001b[0m\u001b[0;34m\u001b[0m\u001b[0;34m\u001b[0m\u001b[0m\n\u001b[1;32m      5\u001b[0m \u001b[0mHBox\u001b[0m\u001b[0;34m(\u001b[0m\u001b[0;34m[\u001b[0m\u001b[0mleft_box\u001b[0m\u001b[0;34m,\u001b[0m \u001b[0mright_box\u001b[0m\u001b[0;34m]\u001b[0m\u001b[0;34m)\u001b[0m\u001b[0;34m\u001b[0m\u001b[0;34m\u001b[0m\u001b[0m\n",
      "\u001b[0;32m<ipython-input-1-3aab22293184>\u001b[0m in \u001b[0;36m<listcomp>\u001b[0;34m(.0)\u001b[0m\n\u001b[1;32m      1\u001b[0m \u001b[0mwords\u001b[0m \u001b[0;34m=\u001b[0m \u001b[0;34m[\u001b[0m\u001b[0;34m'左上'\u001b[0m\u001b[0;34m,\u001b[0m \u001b[0;34m'左下'\u001b[0m\u001b[0;34m,\u001b[0m \u001b[0;34m'右上'\u001b[0m\u001b[0;34m,\u001b[0m \u001b[0;34m'右下'\u001b[0m\u001b[0;34m]\u001b[0m\u001b[0;34m\u001b[0m\u001b[0;34m\u001b[0m\u001b[0m\n\u001b[0;32m----> 2\u001b[0;31m \u001b[0mitems\u001b[0m \u001b[0;34m=\u001b[0m \u001b[0;34m[\u001b[0m\u001b[0mButton\u001b[0m\u001b[0;34m(\u001b[0m\u001b[0mdescription\u001b[0m\u001b[0;34m=\u001b[0m\u001b[0md\u001b[0m\u001b[0;34m,\u001b[0m \u001b[0mbutton_style\u001b[0m\u001b[0;34m=\u001b[0m\u001b[0;34m'danger'\u001b[0m\u001b[0;34m)\u001b[0m \u001b[0;32mfor\u001b[0m \u001b[0md\u001b[0m \u001b[0;32min\u001b[0m \u001b[0mwords\u001b[0m\u001b[0;34m]\u001b[0m\u001b[0;34m\u001b[0m\u001b[0;34m\u001b[0m\u001b[0m\n\u001b[0m\u001b[1;32m      3\u001b[0m \u001b[0mleft_box\u001b[0m \u001b[0;34m=\u001b[0m \u001b[0mVBox\u001b[0m\u001b[0;34m(\u001b[0m\u001b[0;34m[\u001b[0m\u001b[0mitems\u001b[0m\u001b[0;34m[\u001b[0m\u001b[0;36m0\u001b[0m\u001b[0;34m]\u001b[0m\u001b[0;34m,\u001b[0m \u001b[0mitems\u001b[0m\u001b[0;34m[\u001b[0m\u001b[0;36m1\u001b[0m\u001b[0;34m]\u001b[0m\u001b[0;34m]\u001b[0m\u001b[0;34m)\u001b[0m\u001b[0;34m\u001b[0m\u001b[0;34m\u001b[0m\u001b[0m\n\u001b[1;32m      4\u001b[0m \u001b[0mright_box\u001b[0m \u001b[0;34m=\u001b[0m \u001b[0mVBox\u001b[0m\u001b[0;34m(\u001b[0m\u001b[0;34m[\u001b[0m\u001b[0mitems\u001b[0m\u001b[0;34m[\u001b[0m\u001b[0;36m2\u001b[0m\u001b[0;34m]\u001b[0m\u001b[0;34m,\u001b[0m \u001b[0mitems\u001b[0m\u001b[0;34m[\u001b[0m\u001b[0;36m3\u001b[0m\u001b[0;34m]\u001b[0m\u001b[0;34m]\u001b[0m\u001b[0;34m)\u001b[0m\u001b[0;34m\u001b[0m\u001b[0;34m\u001b[0m\u001b[0m\n\u001b[1;32m      5\u001b[0m \u001b[0mHBox\u001b[0m\u001b[0;34m(\u001b[0m\u001b[0;34m[\u001b[0m\u001b[0mleft_box\u001b[0m\u001b[0;34m,\u001b[0m \u001b[0mright_box\u001b[0m\u001b[0;34m]\u001b[0m\u001b[0;34m)\u001b[0m\u001b[0;34m\u001b[0m\u001b[0;34m\u001b[0m\u001b[0m\n",
      "\u001b[0;31mNameError\u001b[0m: name 'Button' is not defined"
     ]
    }
   ],
   "source": [
    "words = ['左上', '左下', '右上', '右下']\n",
    "items = [Button(description=d, button_style='danger') for d in words]\n",
    "left_box = VBox([items[0], items[1]])\n",
    "right_box = VBox([items[2], items[3]])\n",
    "HBox([left_box, right_box])"
   ]
  },
  {
   "cell_type": "markdown",
   "metadata": {},
   "source": [
    "## 除了Button還可以排列其他Widgets"
   ]
  },
  {
   "cell_type": "code",
   "execution_count": 7,
   "metadata": {},
   "outputs": [],
   "source": [
    "from ipywidgets import interact, widgets"
   ]
  },
  {
   "cell_type": "code",
   "execution_count": 8,
   "metadata": {},
   "outputs": [
    {
     "data": {
      "application/vnd.jupyter.widget-view+json": {
       "model_id": "3e1401930a8b45829d855b2ac8c072c6",
       "version_major": 2,
       "version_minor": 0
      },
      "text/plain": [
       "Box(children=(Play(value=1, max=1000, min=1, step=30), FloatProgress(value=100.0, bar_style='success', descrip…"
      ]
     },
     "metadata": {},
     "output_type": "display_data"
    }
   ],
   "source": [
    "play = widgets.Play(\n",
    "    value=0, \n",
    "    min=1, \n",
    "    max=1000, \n",
    "    step=30, \n",
    "    discription=\"Press play\", \n",
    "    disabled = False)\n",
    "\n",
    "slider = widgets.FloatProgress(\n",
    "    value=100,\n",
    "    min=1, \n",
    "    max=1000,step=3, \n",
    "    description=\"等待中:\", \n",
    "    bar_style='Success',\n",
    "    orientation='Horizontal')\n",
    "\n",
    "widgets.jslink((play,'value'), (slider, 'value'))\n",
    "widgets.Box([play, slider])"
   ]
  },
  {
   "cell_type": "markdown",
   "metadata": {},
   "source": [
    "## Layout內參數：flex-flow\n",
    "\n",
    "### flex-direction:\n",
    "* column/column-reverse\n",
    "* row/row-reverse\n",
    "\n",
    "### flex-wrap:\n",
    "* wrap/wrap-reverse"
   ]
  },
  {
   "cell_type": "code",
   "execution_count": 15,
   "metadata": {},
   "outputs": [
    {
     "data": {
      "application/vnd.jupyter.widget-view+json": {
       "model_id": "a244c5959d3b48279efd8ee51a202309",
       "version_major": 2,
       "version_minor": 0
      },
      "text/plain": [
       "Box(children=(Button(button_style='info', description='小美', style=ButtonStyle()), Button(button_style='info', …"
      ]
     },
     "metadata": {},
     "output_type": "display_data"
    }
   ],
   "source": [
    "words = ['小美', '大雄', '大華', '花輪','小花','小明','阿呆','阿成']\n",
    "items = [Button(description=d, button_style='info') for d in words]\n",
    "items_layout = Layout( width='auto')\n",
    "\n",
    "box_layout = Layout(display='flex',\n",
    "                    flex_flow='wrap-reverse',\n",
    "                    align_content='stretch',\n",
    "                    border='solid',\n",
    "                    width='100%')\n",
    "\n",
    "box = Box(children=items, layout=box_layout)\n",
    "box"
   ]
  },
  {
   "cell_type": "markdown",
   "metadata": {},
   "source": [
    "## 箱內位置參數：\n",
    "## justify-content/align-items/align-content\n",
    "\n",
    "* flex-start\n",
    "* flex-end\n",
    "* center\n",
    "* space-between\n",
    "* space-around\n",
    "* stretch"
   ]
  },
  {
   "cell_type": "code",
   "execution_count": 22,
   "metadata": {},
   "outputs": [
    {
     "data": {
      "application/vnd.jupyter.widget-view+json": {
       "model_id": "5257c0386ede4db9b097559fbd5ac1ae",
       "version_major": 2,
       "version_minor": 0
      },
      "text/plain": [
       "Box(children=(Button(button_style='primary', description='小美', style=ButtonStyle()), Button(button_style='prim…"
      ]
     },
     "metadata": {},
     "output_type": "display_data"
    }
   ],
   "source": [
    "words = ['小美', '大雄', '大華', '花輪','小花','小明','阿呆','阿成']\n",
    "items = [Button(description=d, button_style='primary') for d in words]\n",
    "items_layout = Layout( width='auto')\n",
    "\n",
    "box_layout = Layout(display='flex',\n",
    "                    flex_flow='wrap',\n",
    "                    justify_content='center',\n",
    "                    border='solid',\n",
    "                    width='100%')\n",
    "\n",
    "box = Box(children=items, layout=box_layout)\n",
    "box"
   ]
  },
  {
   "cell_type": "markdown",
   "metadata": {},
   "source": [
    "## 邊框/箱子大小參數：border/width/height"
   ]
  },
  {
   "cell_type": "code",
   "execution_count": 32,
   "metadata": {},
   "outputs": [
    {
     "data": {
      "application/vnd.jupyter.widget-view+json": {
       "model_id": "ea27f2397f1d4e19bdcacd24663a3b81",
       "version_major": 2,
       "version_minor": 0
      },
      "text/plain": [
       "Box(children=(Button(button_style='primary', description='小美', style=ButtonStyle()), Button(button_style='prim…"
      ]
     },
     "metadata": {},
     "output_type": "display_data"
    }
   ],
   "source": [
    "words = ['小美', '大雄', '大華', '花輪','小花','小明','阿呆','阿成']\n",
    "items = [Button(description=d, button_style='primary') for d in words]\n",
    "items_layout = Layout( width='auto')\n",
    "\n",
    "box_layout = Layout(display='flex',\n",
    "                    flex_flow='wrap',\n",
    "                    justify_content='center',\n",
    "                    border='10px solid blue',\n",
    "                    width='50%',\n",
    "                    height= '300px')\n",
    "\n",
    "box = Box(children=items, layout=box_layout)\n",
    "box"
   ]
  },
  {
   "cell_type": "markdown",
   "metadata": {},
   "source": [
    "## 另一種格式寫法： flex\n",
    "\n",
    "### flex-grow\n",
    "### flex- shrink\n",
    "### flex-basis"
   ]
  },
  {
   "cell_type": "code",
   "execution_count": 38,
   "metadata": {},
   "outputs": [
    {
     "data": {
      "application/vnd.jupyter.widget-view+json": {
       "model_id": "3ff5384b388a418690e7f4238a8ffa99",
       "version_major": 2,
       "version_minor": 0
      },
      "text/plain": [
       "Box(children=(Button(button_style='warning', description='1', layout=Layout(flex='2 1 auto', width='auto'), st…"
      ]
     },
     "metadata": {},
     "output_type": "display_data"
    }
   ],
   "source": [
    "items_auto = [\n",
    "    Button(description='1', layout=Layout(flex='2 1 auto', width='auto'), button_style='warning'),\n",
    "    Button(description='3', layout=Layout(flex='3 1 auto', width='auto'), button_style='warning'),\n",
    "    Button(description='1', layout=Layout(flex='1 1 auto', width='auto'), button_style='warning'),\n",
    " ]\n",
    "\n",
    "box1_layout = Layout(display='flex',\n",
    "                    flex_flow='row',\n",
    "                    align_items='stretch',\n",
    "                    width='70%')\n",
    "\n",
    "box_auto = Box(children=items_auto, layout=box1_layout)\n",
    "box_auto"
   ]
  },
  {
   "cell_type": "markdown",
   "metadata": {},
   "source": [
    "## 自訂Button顏色\n",
    "\n",
    "### 除了以下的既定顏色外：\n",
    "\n",
    "* 'primary'\n",
    "* 'success'\n",
    "* 'info'\n",
    "* 'warning'\n",
    "* 'danger'"
   ]
  },
  {
   "cell_type": "code",
   "execution_count": 42,
   "metadata": {},
   "outputs": [
    {
     "data": {
      "application/vnd.jupyter.widget-view+json": {
       "model_id": "0c6cc9f13b1944b998631c429bcaba0c",
       "version_major": 2,
       "version_minor": 0
      },
      "text/plain": [
       "Button(description='custom color', style=ButtonStyle(button_color='#daafe9'))"
      ]
     },
     "metadata": {},
     "output_type": "display_data"
    }
   ],
   "source": [
    "x = Button(description='custom color')\n",
    "x.style.button_color ='#daafe9'\n",
    "x"
   ]
  },
  {
   "cell_type": "markdown",
   "metadata": {},
   "source": [
    "### 另一種排列方式： GridBox(來自css)"
   ]
  },
  {
   "cell_type": "code",
   "execution_count": 44,
   "metadata": {},
   "outputs": [],
   "source": [
    "from ipywidgets import GridBox,ButtonStyle"
   ]
  },
  {
   "cell_type": "markdown",
   "metadata": {},
   "source": [
    "### 直接用名稱排版："
   ]
  },
  {
   "cell_type": "code",
   "execution_count": 45,
   "metadata": {},
   "outputs": [
    {
     "data": {
      "application/vnd.jupyter.widget-view+json": {
       "model_id": "f3e4ab1d15a6442b89b817c6759fc5ad",
       "version_major": 2,
       "version_minor": 0
      },
      "text/plain": [
       "GridBox(children=(Button(description='標題', layout=Layout(grid_area='header', width='auto'), style=ButtonStyle(…"
      ]
     },
     "metadata": {},
     "output_type": "display_data"
    }
   ],
   "source": [
    "header  = Button(description='標題',\n",
    "                 layout=Layout(width='auto', grid_area='header'),\n",
    "                 style=ButtonStyle(button_color='lightblue'))\n",
    "main    = Button(description='左',\n",
    "                 layout=Layout(width='auto', grid_area='main'),\n",
    "                 style=ButtonStyle(button_color='moccasin'))\n",
    "sidebar = Button(description='右',\n",
    "                 layout=Layout(width='auto', grid_area='sidebar'),\n",
    "                 style=ButtonStyle(button_color='salmon'))\n",
    "footer  = Button(description='底',\n",
    "                 layout=Layout(width='auto', grid_area='footer'),\n",
    "                 style=ButtonStyle(button_color='green'))\n",
    "\n",
    "GridBox(children=[header, main, sidebar, footer],\n",
    "        layout=Layout(\n",
    "            width='100%',\n",
    "            grid_template_rows='auto auto auto',\n",
    "            grid_template_columns='25% 25% 25% 25%',\n",
    "            grid_gap='5px 5px',\n",
    "            grid_template_areas='''\n",
    "            \"header header header header\"\n",
    "            \"main main . sidebar \"\n",
    "            \"footer footer footer footer\"\n",
    "            ''')\n",
    "       )"
   ]
  },
  {
   "cell_type": "code",
   "execution_count": null,
   "metadata": {},
   "outputs": [],
   "source": []
  }
 ],
 "metadata": {
  "kernelspec": {
   "display_name": "Python 3",
   "language": "python",
   "name": "python3"
  },
  "language_info": {
   "codemirror_mode": {
    "name": "ipython",
    "version": 3
   },
   "file_extension": ".py",
   "mimetype": "text/x-python",
   "name": "python",
   "nbconvert_exporter": "python",
   "pygments_lexer": "ipython3",
   "version": "3.7.3"
  }
 },
 "nbformat": 4,
 "nbformat_minor": 2
}
